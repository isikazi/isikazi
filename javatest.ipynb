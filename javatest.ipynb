{
  "nbformat": 4,
  "nbformat_minor": 0,
  "metadata": {
    "colab": {
      "provenance": [],
      "toc_visible": true,
      "include_colab_link": true
    },
    "kernelspec": {
      "name": "python3",
      "display_name": "Python 3"
    },
    "language_info": {
      "name": "python"
    }
  },
  "cells": [
    {
      "cell_type": "markdown",
      "metadata": {
        "id": "view-in-github",
        "colab_type": "text"
      },
      "source": [
        "<a href=\"https://colab.research.google.com/github/isikazi/isikazi/blob/main/javatest.ipynb\" target=\"_parent\"><img src=\"https://colab.research.google.com/assets/colab-badge.svg\" alt=\"Open In Colab\"/></a>"
      ]
    },
    {
      "cell_type": "markdown",
      "source": [
        "#![minecraft_icon.png](data:image/png;base64,iVBORw0KGgoAAAANSUhEUgAAABAAAAAQCAYAAAAf8/9hAAAAgklEQVR4XmNgGDzAlfs/BiZGDlmR8AUdOEY3AKccUYrwySErcv7gDscMpuwoGEUOqwEghTWKcIxsI9hWJDmwWgyAZiOGAWjy6NohACSxQRNDM9wQoBxuzSAANQAvJsmANAkIJsUAFCdDDcAIC5wAJAmzFYRhAYYuhhPgCmlc4oMCAACPNsqj7wB/VgAAAABJRU5ErkJggg==)**java** *install* & *update* or view from [JDK21](https://jdk.java.net/archive/)"
      ],
      "metadata": {
        "id": "lOu9N-EhjZDG"
      }
    },
    {
      "cell_type": "code",
      "source": [
        "# @title\n",
        "##javaのインストールとアップデート\n",
        "print(\"アップデート\")\n",
        "!apt update\n",
        "print(\"インストール\")\n",
        "!apt install openjdk-21-jdk-headless\n",
        "##実行環境の構築と実行用のJAVAの指定\n",
        "import os\n",
        "os.environ[\"JAVA_HOME\"] = \"/usr/lib/jvm/java-21-openjdk-amd64\"\n",
        "print(\"JAVAのパス\",os.environ[\"JAVA_HOME\"])\n",
        "##JAVAのバージョン確認\n",
        "print(\"バージョン確認\")\n",
        "! java -version"
      ],
      "metadata": {
        "colab": {
          "base_uri": "https://localhost:8080/"
        },
        "collapsed": true,
        "id": "5nS-NV6njsCm",
        "outputId": "008f3e94-0416-44cc-9865-ae829d266dcb"
      },
      "execution_count": 8,
      "outputs": [
        {
          "output_type": "stream",
          "name": "stdout",
          "text": [
            "アップデート\n",
            "Hit:1 https://cli.github.com/packages stable InRelease\n",
            "Hit:2 https://cloud.r-project.org/bin/linux/ubuntu jammy-cran40/ InRelease\n",
            "Hit:3 https://developer.download.nvidia.com/compute/cuda/repos/ubuntu2204/x86_64  InRelease\n",
            "Hit:4 http://archive.ubuntu.com/ubuntu jammy InRelease\n",
            "Hit:5 http://archive.ubuntu.com/ubuntu jammy-updates InRelease\n",
            "Hit:6 http://security.ubuntu.com/ubuntu jammy-security InRelease\n",
            "Hit:7 http://archive.ubuntu.com/ubuntu jammy-backports InRelease\n",
            "Hit:8 https://r2u.stat.illinois.edu/ubuntu jammy InRelease\n",
            "Hit:9 https://ppa.launchpadcontent.net/deadsnakes/ppa/ubuntu jammy InRelease\n",
            "Hit:10 https://ppa.launchpadcontent.net/graphics-drivers/ppa/ubuntu jammy InRelease\n",
            "Hit:11 https://ppa.launchpadcontent.net/ubuntugis/ppa/ubuntu jammy InRelease\n",
            "Reading package lists... Done\n",
            "Building dependency tree... Done\n",
            "Reading state information... Done\n",
            "39 packages can be upgraded. Run 'apt list --upgradable' to see them.\n",
            "\u001b[1;33mW: \u001b[0mSkipping acquire of configured file 'main/source/Sources' as repository 'https://r2u.stat.illinois.edu/ubuntu jammy InRelease' does not seem to provide it (sources.list entry misspelt?)\u001b[0m\n",
            "インストール\n",
            "Reading package lists... Done\n",
            "Building dependency tree... Done\n",
            "Reading state information... Done\n",
            "openjdk-21-jdk-headless is already the newest version (21.0.8+9~us1-0ubuntu1~22.04.1).\n",
            "0 upgraded, 0 newly installed, 0 to remove and 39 not upgraded.\n",
            "JAVAのパス /usr/lib/jvm/java-21-openjdk-amd64\n",
            "バージョン確認\n",
            "openjdk version \"21.0.8\" 2025-07-15\n",
            "OpenJDK Runtime Environment (build 21.0.8+9-Ubuntu-0ubuntu122.04.1)\n",
            "OpenJDK 64-Bit Server VM (build 21.0.8+9-Ubuntu-0ubuntu122.04.1, mixed mode, sharing)\n"
          ]
        }
      ]
    },
    {
      "cell_type": "markdown",
      "source": [
        "```\n",
        "%%writefile program_name.java\n",
        "public class program_name {\n",
        "  public static void main(String[] args) {\n",
        "    ##program!!!\n",
        "  }\n",
        "}\n",
        "```\n",
        "`!java program_name.java`\n"
      ],
      "metadata": {
        "id": "_bNslN_vV5mb"
      }
    },
    {
      "cell_type": "markdown",
      "source": [
        "# **Program list** *free note*"
      ],
      "metadata": {
        "id": "qsTJrddcTCJk"
      }
    },
    {
      "cell_type": "code",
      "source": [
        "%%writefile test.java\n",
        "public class test {\n",
        "  public static void main(String[] args) {\n",
        "      System.out.println(\"Hello, World!\");\n",
        "    }\n",
        "}"
      ],
      "metadata": {
        "colab": {
          "base_uri": "https://localhost:8080/"
        },
        "id": "8JV13z54juzD",
        "outputId": "d5e25a4a-cde5-401d-c555-0ae70047c197"
      },
      "execution_count": 1,
      "outputs": [
        {
          "output_type": "stream",
          "name": "stdout",
          "text": [
            "Writing test.java\n"
          ]
        }
      ]
    },
    {
      "cell_type": "code",
      "source": [
        "!java test.java"
      ],
      "metadata": {
        "colab": {
          "base_uri": "https://localhost:8080/"
        },
        "id": "e2jdTGf8k2XS",
        "outputId": "92016ffe-b107-4843-98d4-32eeb1268f7c"
      },
      "execution_count": 2,
      "outputs": [
        {
          "output_type": "stream",
          "name": "stdout",
          "text": [
            "Hello, World!\n"
          ]
        }
      ]
    },
    {
      "cell_type": "code",
      "source": [
        "%%writefile banana.java\n",
        "import java.util.Scanner;\n",
        "public class banana {\n",
        "    public static void main(String[] args) {\n",
        "\n",
        "      Scanner scan = new Scanner(System.in);\n",
        "      System.out.print(\"numの数値:\");\n",
        "      int num = scan.nextInt();\n",
        "\n",
        "        for (int i = 0; i < num; i++) {\n",
        "            System.out.println(i);\n",
        "        }\n",
        "    }\n",
        "}"
      ],
      "metadata": {
        "colab": {
          "base_uri": "https://localhost:8080/"
        },
        "id": "V_4QFULhk4kj",
        "outputId": "584dd3eb-b867-4bcb-b18e-97fd149b18e9"
      },
      "execution_count": null,
      "outputs": [
        {
          "output_type": "stream",
          "name": "stdout",
          "text": [
            "Overwriting banana.java\n"
          ]
        }
      ]
    },
    {
      "cell_type": "code",
      "source": [
        "!java banana.java"
      ],
      "metadata": {
        "colab": {
          "base_uri": "https://localhost:8080/"
        },
        "id": "HNbGsTg4mhei",
        "outputId": "949c8634-515e-4471-b167-5e300b766f68",
        "collapsed": true
      },
      "execution_count": null,
      "outputs": [
        {
          "output_type": "stream",
          "name": "stdout",
          "text": [
            "numの数値:89\n",
            "0\n",
            "1\n",
            "2\n",
            "3\n",
            "4\n",
            "5\n",
            "6\n",
            "7\n",
            "8\n",
            "9\n",
            "10\n",
            "11\n",
            "12\n",
            "13\n",
            "14\n",
            "15\n",
            "16\n",
            "17\n",
            "18\n",
            "19\n",
            "20\n",
            "21\n",
            "22\n",
            "23\n",
            "24\n",
            "25\n",
            "26\n",
            "27\n",
            "28\n",
            "29\n",
            "30\n",
            "31\n",
            "32\n",
            "33\n",
            "34\n",
            "35\n",
            "36\n",
            "37\n",
            "38\n",
            "39\n",
            "40\n",
            "41\n",
            "42\n",
            "43\n",
            "44\n",
            "45\n",
            "46\n",
            "47\n",
            "48\n",
            "49\n",
            "50\n",
            "51\n",
            "52\n",
            "53\n",
            "54\n",
            "55\n",
            "56\n",
            "57\n",
            "58\n",
            "59\n",
            "60\n",
            "61\n",
            "62\n",
            "63\n",
            "64\n",
            "65\n",
            "66\n",
            "67\n",
            "68\n",
            "69\n",
            "70\n",
            "71\n",
            "72\n",
            "73\n",
            "74\n",
            "75\n",
            "76\n",
            "77\n",
            "78\n",
            "79\n",
            "80\n",
            "81\n",
            "82\n",
            "83\n",
            "84\n",
            "85\n",
            "86\n",
            "87\n",
            "88\n"
          ]
        }
      ]
    },
    {
      "cell_type": "code",
      "source": [
        "! java -version"
      ],
      "metadata": {
        "id": "EVfeqHmEVew3",
        "outputId": "047db1d8-6583-486a-ddea-85dd4e96be1a",
        "colab": {
          "base_uri": "https://localhost:8080/"
        }
      },
      "execution_count": 5,
      "outputs": [
        {
          "output_type": "stream",
          "name": "stdout",
          "text": [
            "openjdk version \"21.0.8\" 2025-07-15\n",
            "OpenJDK Runtime Environment (build 21.0.8+9-Ubuntu-0ubuntu122.04.1)\n",
            "OpenJDK 64-Bit Server VM (build 21.0.8+9-Ubuntu-0ubuntu122.04.1, mixed mode, sharing)\n"
          ]
        }
      ]
    }
  ]
}